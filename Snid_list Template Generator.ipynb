{
 "cells": [
  {
   "cell_type": "code",
   "execution_count": 2,
   "id": "e428c097",
   "metadata": {},
   "outputs": [],
   "source": [
    "import numpy as np\n",
    "import astropy.io.ascii as ascii\n",
    "from astropy.time import Time\n",
    "import glob\n",
    "import os\n",
    "import pandas as pd\n",
    "import re\n",
    "\n",
    "#Importing necessary libraries"
   ]
  },
  {
   "cell_type": "code",
   "execution_count": 3,
   "id": "7d04764a",
   "metadata": {},
   "outputs": [],
   "source": [
    "my_list_of_dicts = []\n",
    "#Creating a list to store the spectra templates"
   ]
  },
  {
   "cell_type": "code",
   "execution_count": 4,
   "id": "4bb43e36",
   "metadata": {},
   "outputs": [],
   "source": [
    "subtype_list = ['Ia-norm', 'Ia-91T', 'Ia-91bg', 'Ia-02cx', '20xnd', '18cow', 'Ia-csm', 'Ia-pec', 'Ia-SC', 'Ia-Ca-Rich', \n",
    "                'Ib-norm', 'Ib-pec', 'Ibn', 'IIb', 'Ic-norm', 'Ic-broad', 'Ic-pec', 'Ic-Ca-Rich',\n",
    "                'II-pec', 'IIL', 'IIn', 'IIP', 'IIn-pec',\n",
    "                'AGN', 'C-Star', 'CV', 'Galaxy', 'KN', 'LBV', 'M_Star', 'QSO', 'LRN',\n",
    "                'TDE', 'TDE-He', 'SLSN-I', 'SLSN-II', ]\n",
    "#List of accepted SNID subtypes             ###check this is correct###"
   ]
  },
  {
   "cell_type": "code",
   "execution_count": 5,
   "id": "032cced8",
   "metadata": {},
   "outputs": [],
   "source": [
    "age_flag_list = ['0', '1', '2']\n",
    "#List of accepted age_flag values"
   ]
  },
  {
   "cell_type": "code",
   "execution_count": 5,
   "id": "5a9cdb85",
   "metadata": {},
   "outputs": [
    {
     "name": "stdout",
     "output_type": "stream",
     "text": [
      "C:\\Users\\dkjma\\Documents\\Anaconda\n"
     ]
    },
    {
     "data": {
      "text/plain": [
       "['.ipynb_checkpoints',\n",
       " 'Jupyter',\n",
       " 'Jupyter-checkpoint.ipynb',\n",
       " 'Jupyter.ipynb',\n",
       " 'SNID Dylan 2.csv',\n",
       " 'SNID Dylan 3.csv',\n",
       " 'SNID Dylan 4.csv',\n",
       " 'SNID Dylan.csv',\n",
       " 'SNID Pie Charts - Altered Groupings 2.ipynb',\n",
       " 'SNID Pie Charts - Altered Groupings.ipynb',\n",
       " 'SNID Pie Charts - Subgroup Charts.ipynb',\n",
       " 'SNID Pie Charts.ipynb',\n",
       " 'SNID Standard.csv',\n",
       " 'Snid_list Template Generator.ipynb',\n",
       " 'Spectra',\n",
       " 'Spectra Converter.ipynb',\n",
       " 'Test Code for Snid_list Template Generator.ipynb',\n",
       " 'test_snid1.txt']"
      ]
     },
     "execution_count": 5,
     "metadata": {},
     "output_type": "execute_result"
    }
   ],
   "source": [
    "print(os.getcwd())\n",
    "os.listdir()\n",
    "\n",
    "#os.chdir('Spectra')\n",
    "\n",
    "#Checking which directory I'm in - above command used to get to list of spectra"
   ]
  },
  {
   "cell_type": "code",
   "execution_count": 493,
   "id": "18537434",
   "metadata": {},
   "outputs": [
    {
     "name": "stdout",
     "output_type": "stream",
     "text": [
      "Search for event - trimmed_ASASSN-15oi*.ascii\n",
      "Spectra\\trimmed_ASASSN-15oi_2015-08-21_01-55-24_ESO-NTT_EFOSC2-NTT_PESSTO_SSDR1-4.ascii\n",
      "Spectra\\trimmed_ASASSN-15oi_2015-09-08_03-58-39_ESO-NTT_EFOSC2-NTT_PESSTO_SSDR1-4.ascii\n",
      "Spectra\\trimmed_ASASSN-15oi_2015-09-08_04-29-29_ESO-NTT_EFOSC2-NTT_PESSTO_SSDR1-4.ascii\n",
      "Spectra\\trimmed_ASASSN-15oi_2015-10-04_02-13-03_ESO-NTT_EFOSC2-NTT_PESSTO_SSDR1-4.ascii\n",
      "Spectra\\trimmed_ASASSN-15oi_2015-10-04_03-15-25_ESO-NTT_EFOSC2-NTT_PESSTO_SSDR1-4.ascii\n",
      "Spectra\\trimmed_ASASSN-15oi_2015-10-22_00-31-30_ESO-NTT_EFOSC2-NTT_PESSTO_SSDR1-4.ascii\n",
      "Spectra\\trimmed_ASASSN-15oi_2015-11-10_00-54-44_ESO-NTT_EFOSC2-NTT_PESSTO_SSDR1-4.ascii\n",
      "Spectra\\trimmed_ASASSN-15oi_2016-08-07_06-16-12_ESO-NTT_EFOSC2-NTT_PESSTO_SSDR1-4.ascii\n",
      "Spectra\\trimmed_ASASSN-15oi_2016-08-08_05-15-36_ESO-NTT_EFOSC2-NTT_PESSTO_SSDR1-4.ascii\n",
      "9\n"
     ]
    }
   ],
   "source": [
    "name = input(\"Search for event - \")\n",
    "#Inserting input value - name of event\n",
    "#Make sure to include \"*.ascii\" in the name\n",
    "#Make sure to include \"trimmed_\" at the start\n",
    "\n",
    "event_list = []\n",
    "#Creating a list to store the found spectra\n",
    "\n",
    "for value in glob.glob(\"Spectra/\" + name):\n",
    "    event_list.append(value)\n",
    "    print (value)\n",
    "#For loop to search for spectra matching the input name, appends found spectra to a list\n",
    "\n",
    "print(len(event_list))\n",
    "#Printing number of spectra"
   ]
  },
  {
   "cell_type": "code",
   "execution_count": null,
   "id": "9e99867c",
   "metadata": {},
   "outputs": [
    {
     "name": "stdout",
     "output_type": "stream",
     "text": [
      "Spectra\\trimmed_ASASSN-15oi_2015-08-21_01-55-24_ESO-NTT_EFOSC2-NTT_PESSTO_SSDR1-4.ascii\n",
      "\n",
      " 1\n",
      "min_wl =  3637.57\n",
      "max_wl =  9229.5\n",
      "spectrum_timestamp =  2015-08-21 01:55:24\n",
      "In mjd =  57255.08013888889\n",
      "State the name of the object - ASASSN-15oi\n",
      "State the subtype of the object - TDE-He\n",
      "State the redshift of the object - 0.0484\n",
      "State the peak time in mjd - 57248.2\n",
      "For age_flag :  \n",
      " 0 = Age is in days from maximum light \n",
      " 1 = Age is in days from 1st Spectrum age \n",
      " 2 = Age is N/A - i.e. NotSN\n",
      "State the age_flag of the object - 1\n",
      "Age is =  7.0\n",
      "\n",
      " 2\n",
      "min_wl =  3342.38\n",
      "max_wl =  7460.58\n",
      "spectrum_timestamp =  2015-09-08 03:58:39\n",
      "In mjd =  57273.16572916666\n",
      "Is this the same object [Yes]?\n",
      "Age is =  25.0\n",
      "\n",
      " 3\n",
      "min_wl =  5990.09\n",
      "max_wl =  9984.94\n",
      "spectrum_timestamp =  2015-09-08 04:29:29\n",
      "In mjd =  57273.18714120371\n",
      "Is this the same object [Yes]?\n",
      "Age is =  25.0\n",
      "\n",
      " 4\n",
      "min_wl =  5991.78\n",
      "max_wl =  9986.83\n",
      "spectrum_timestamp =  2015-10-04 02:13:03\n",
      "In mjd =  57299.09239583334\n"
     ]
    }
   ],
   "source": [
    "print(event_list[0])\n",
    "for i in range(len(event_list)):\n",
    "    print('\\n', 1+i)\n",
    "    f = pd.read_table(event_list[i])\n",
    "    #Reading event into a dataframe\n",
    "\n",
    "    wl_col = f.iloc[:,0]\n",
    "    #Assigning wavelength column to a separate thing\n",
    "\n",
    "    min_wavelength = min(wl_col)\n",
    "    max_wavelength = max(wl_col)\n",
    "    #Determining max and min wavelength values\n",
    "\n",
    "    print('min_wl = ', min_wavelength)\n",
    "    print('max_wl = ', max_wavelength)\n",
    "    #Printing out values to check they are correct\n",
    "    \n",
    "    \n",
    "    spectrum_timestamp = re.search(\"[0-9]{4}\\-[0-9]{2}\\-[0-9]{2}\\_[0-9]{2}\\-[0-9]{2}\\-[0-9]{2}\", event_list[i])\n",
    "    spectrum_timestamp = spectrum_timestamp.group()\n",
    "    #Using REGEX to extract date and time from the spectrum filename\n",
    "\n",
    "    spectrum_timestamp = spectrum_timestamp.replace('_',' ')\n",
    "    spectrum_timestamp = spectrum_timestamp.replace('-',':')\n",
    "    spectrum_timestamp = spectrum_timestamp.replace(':','-',2)\n",
    "    print('spectrum_timestamp = ', spectrum_timestamp)\n",
    "    #Converting the date and time into a format ASTROPY accepts\n",
    "\n",
    "    tm = Time(spectrum_timestamp, format = 'iso')\n",
    "    spectrum_mjd = tm.mjd\n",
    "    print('In mjd = ', spectrum_mjd)\n",
    "    #Converting date and time to mjd\n",
    "    \n",
    "\n",
    "    if i == 0:\n",
    "        spectrum_objname = input(\"State the name of the object - \")\n",
    "        obj_type = input(\"State the subtype of the object - \")\n",
    "        rs = input(\"State the redshift of the object - \")\n",
    "        input_peak_mjd = input(\"State the peak time in mjd - \")\n",
    "        print(\"For age_flag : \",\"\\n\",\"0 = Age is in days from maximum light\",\"\\n\",\"1 = Age is in days from 1st Spectrum age\",\n",
    "            \"\\n\", \"2 = Age is N/A - i.e. NotSN\")\n",
    "        age_flag = input(\"State the age_flag of the object - \")\n",
    "    #Ensures that it asks the user for input for the first spectra    \n",
    "    \n",
    "    elif i > 0:\n",
    "        test = ''\n",
    "        test = input(\"Is this the same object [Yes]?\")\n",
    "\n",
    "        if test == '':\n",
    "            test = 'Yes'\n",
    "        else:\n",
    "            test = test\n",
    "    \n",
    "        if test == 'yes' or test == 'Yes':\n",
    "            spectrum_objname = spectrum_objname\n",
    "            rs = rs\n",
    "            obj_type = obj_type\n",
    "            input_peak_mjd = input_peak_mjd\n",
    "        #Allows user to just press enter to skip if details are the same\n",
    "        \n",
    "        else:\n",
    "            spectrum_objname = input(\"State the name of the object - \")\n",
    "            obj_type = input(\"State the subtype of the object - \")\n",
    "            rs = input(\"State the redshift of the object - \")\n",
    "            input_peak_mjd = input(\"State the peak time in mjd - \")\n",
    "            print(\"For age_flag : \",\"\\n\",\"0 = Age is in days from maximum light\",\"\\n\",\"1 = Age is in days from 1st Spectrum age\",\n",
    "                \"\\n\", \"2 = Age is N/A - i.e. NotSN\")\n",
    "            age_flag = input(\"State the age_flag of the object - \")\n",
    "        #Otherwise asks user for new input values\n",
    "        \n",
    "        \n",
    "    if obj_type in subtype_list:\n",
    "        pass\n",
    "    else:\n",
    "        print(\"Subtype stated not in accepted SNID list\")\n",
    "        obj_type = input(\"Please check format and re-enter object subtype - \")\n",
    "    #Check to ensure that entered subtype matches list of accepted subtypes\n",
    "    \n",
    "    try:\n",
    "        input_peak_mjd = float(input_peak_mjd)\n",
    "    except:\n",
    "        print(\"Peak time in mjd not accepted\")\n",
    "        input_peak_mjd = input(\"Please re-enter as a number - \")\n",
    "    #Check to ensure peak time in mjd is a number\n",
    "    \n",
    "    try:\n",
    "        rs = float(rs)\n",
    "    except:\n",
    "        print(\"Redshift not accepted\")\n",
    "        rs = input(\"Please re-enter as a number - \")\n",
    "    #Check to ensure redshift is a number\n",
    "    \n",
    "    if age_flag in age_flag_list:\n",
    "        pass\n",
    "    else:\n",
    "        print(\"Age_flag not an accepted value\")\n",
    "        print(\"For age_flag : \",\"\\n\",\"0 = Age is in days from maximum light;\",\"\\n\",\"1 = Age is in days from 1st Spectrum age\",\n",
    "            \"\\n\", \"2 = Age is N/A - i.e. NotSN\")\n",
    "        age_flag = input(\"Please insert an accepted age_flag value - \")\n",
    "    #Check to ensure age_flag is an accepted value\n",
    "        \n",
    "    \n",
    "    delta = -9.99\n",
    "    ab = 0\n",
    "    #Manually inputting values for the object\n",
    "    \n",
    "    \n",
    "    age = float(spectrum_mjd) - float(input_peak_mjd)\n",
    "    age = str(round(age, 0))\n",
    "    print('Age is = ', age)\n",
    "    #Calculating the age of the spectra relative to the peak and rounding to 1dp\n",
    "    \n",
    "    fname = event_list[i]\n",
    "    fname = fname.replace(\"\\\\\" ,\"/\")\n",
    "    #Converting filename format from Windows to Linux\n",
    "    \n",
    "    spectrum_dict = {'#Object,' : spectrum_objname,\n",
    "        'Type,' : obj_type,\n",
    "        'Filename,' : fname,\n",
    "        'Age,' : age,\n",
    "        'Age_flag,' : age_flag,\n",
    "        'Delta,' : delta,\n",
    "        'AB?,' : ab,\n",
    "        'min_wl,' : min_wavelength,\n",
    "        'max_wl,' : max_wavelength,\n",
    "        'Redshift' : rs}\n",
    "    #Assigning all of the values for the object to a dictionary\n",
    "    \n",
    "    my_list_of_dicts.append(spectrum_dict)\n",
    "    #Appending that dictionary to the overall dictionary"
   ]
  },
  {
   "cell_type": "code",
   "execution_count": 235,
   "id": "c9fe7f3b",
   "metadata": {},
   "outputs": [
    {
     "name": "stdout",
     "output_type": "stream",
     "text": [
      "[]\n"
     ]
    }
   ],
   "source": [
    "#my_list_of_dicts.clear()\n",
    "print(my_list_of_dicts)"
   ]
  },
  {
   "cell_type": "code",
   "execution_count": 52,
   "id": "a054ec4b",
   "metadata": {},
   "outputs": [
    {
     "name": "stdout",
     "output_type": "stream",
     "text": [
      "{'#Object,': 'SN2016enp', 'Type,': 'IIP', 'Filename,': 'Spectra\\\\trimmed_SN2016enp_2016-08-07_04-43-07_ESO-NTT_EFOSC2-NTT_PESSTO_SSDR1-4.ascii', 'Age,': '7.2', 'Age_flag,': 0, 'Delta,': -9.99, 'AB?,': 0, 'min_wl,': 3340.97, 'max_wl,': 7457.69, 'Redshift': 0.033}\n"
     ]
    }
   ],
   "source": [
    "print(my_list_of_dicts[0])"
   ]
  },
  {
   "cell_type": "code",
   "execution_count": null,
   "id": "50c4dab4",
   "metadata": {},
   "outputs": [],
   "source": []
  },
  {
   "cell_type": "code",
   "execution_count": 8,
   "id": "af7910aa",
   "metadata": {},
   "outputs": [
    {
     "name": "stdout",
     "output_type": "stream",
     "text": [
      "    #Object,    Type,                                          Filename,  \\\n",
      "0  sn2016ije  Ia-91bg  Spectra/trimmed_SN2016ije_2016-11-28_00-56-46_...   \n",
      "0  sn2016ije  Ia-91bg  Spectra/trimmed_SN2016ije_2016-11-28_03-27-42_...   \n",
      "0  sn2016ije  Ia-91bg  Spectra/trimmed_SN2016ije_2016-12-01_02-03-20_...   \n",
      "0  sn2016ije  Ia-91bg  Spectra/trimmed_SN2016ije_2016-12-19_02-43-23_...   \n",
      "0  sn2016ije  Ia-91bg  Spectra/trimmed_SN2016ije_2017-01-05_01-11-08_...   \n",
      "0  sn2016ije  Ia-91bg  Spectra/trimmed_SN2016ije_2017-01-18_00-57-44_...   \n",
      "\n",
      "   Age, Age_flag,  Delta,  AB?,  min_wl,  max_wl,  Redshift  \n",
      "0   3.0         0   -9.99     0  3337.13  7453.50     0.015  \n",
      "0   4.0         0   -9.99     0  5985.84  9980.34     0.015  \n",
      "0   6.0         0   -9.99     0  3642.33  9235.11     0.015  \n",
      "0  25.0         0   -9.99     0  3637.62  9230.83     0.015  \n",
      "0  41.0         0   -9.99     0  3640.32  9233.47     0.015  \n",
      "0  54.0         0   -9.99     0  3637.90  9231.35     0.015  \n"
     ]
    }
   ],
   "source": [
    "### For first time writing to file ###\n",
    "\n",
    "#list_of_dfs = []\n",
    "#for i in range(len(my_list_of_dicts)):\n",
    "#    df = pd.DataFrame.from_dict([my_list_of_dicts[i]])\n",
    "#    list_of_dfs.append(df)\n",
    "#\n",
    "#end_result = pd.concat(list_of_dfs)    \n",
    "#print(end_result)\n",
    "    \n",
    "#end_result.to_csv('snid_list1.txt', sep = '\\t', header = True, index = False)\n",
    "#my_list_of_dicts.clear()"
   ]
  },
  {
   "cell_type": "code",
   "execution_count": 492,
   "id": "dfb037fc",
   "metadata": {},
   "outputs": [
    {
     "name": "stdout",
     "output_type": "stream",
     "text": [
      "    #Object, Type,                                          Filename,  Age,  \\\n",
      "0  OGLE16aaa   TDE  Spectra/trimmed_OGLE16aaa_2016-02-06_00-50-10_...  17.0   \n",
      "0  OGLE16aaa   TDE  Spectra/trimmed_OGLE16aaa_2016-02-15_00-47-35_...  26.0   \n",
      "0  OGLE16aaa   TDE  Spectra/trimmed_OGLE16aaa_2016-02-25_00-56-44_...  36.0   \n",
      "0  OGLE16aaa   TDE  Spectra/trimmed_OGLE16aaa_2016-03-09_00-12-47_...  49.0   \n",
      "\n",
      "  Age_flag,  Delta,  AB?,  min_wl,  max_wl,  Redshift  \n",
      "0         0   -9.99     0  3648.39  9238.85     0.165  \n",
      "0         0   -9.99     0  3648.38  9238.76     0.165  \n",
      "0         0   -9.99     0  3648.79  9239.58     0.165  \n",
      "0         0   -9.99     0  3655.12  9246.10     0.165  \n"
     ]
    }
   ],
   "source": [
    "### For appending to existing file ###\n",
    "\n",
    "list_of_dfs = []\n",
    "for i in range(len(my_list_of_dicts)):\n",
    "    df = pd.DataFrame.from_dict([my_list_of_dicts[i]])\n",
    "    list_of_dfs.append(df)\n",
    "\n",
    "end_result = pd.concat(list_of_dfs)    \n",
    "print(end_result)\n",
    "    \n",
    "end_result.to_csv('snid_list1.txt', sep = '\\t', header = False, index = False, mode='a')\n",
    "my_list_of_dicts.clear()"
   ]
  },
  {
   "cell_type": "code",
   "execution_count": null,
   "id": "a43eb0ed",
   "metadata": {},
   "outputs": [],
   "source": []
  },
  {
   "cell_type": "code",
   "execution_count": null,
   "id": "6a01fd66",
   "metadata": {},
   "outputs": [],
   "source": []
  },
  {
   "cell_type": "code",
   "execution_count": null,
   "id": "070c8713",
   "metadata": {},
   "outputs": [],
   "source": []
  },
  {
   "cell_type": "code",
   "execution_count": null,
   "id": "bdb54847",
   "metadata": {},
   "outputs": [],
   "source": []
  }
 ],
 "metadata": {
  "kernelspec": {
   "display_name": "Python 3 (ipykernel)",
   "language": "python",
   "name": "python3"
  },
  "language_info": {
   "codemirror_mode": {
    "name": "ipython",
    "version": 3
   },
   "file_extension": ".py",
   "mimetype": "text/x-python",
   "name": "python",
   "nbconvert_exporter": "python",
   "pygments_lexer": "ipython3",
   "version": "3.9.13"
  }
 },
 "nbformat": 4,
 "nbformat_minor": 5
}
